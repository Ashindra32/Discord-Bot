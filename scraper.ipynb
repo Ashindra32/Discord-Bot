{
 "cells": [
  {
   "cell_type": "code",
   "execution_count": 1,
   "metadata": {},
   "outputs": [],
   "source": [
    "import requests\n",
    "from bs4 import BeautifulSoup\n"
   ]
  },
  {
   "cell_type": "code",
   "execution_count": 5,
   "metadata": {},
   "outputs": [],
   "source": [
    "def sports():\n",
    "    url = \"https://www.gadgetsnow.com/tech-news\"\n",
    "    page_request = requests.get(url)\n",
    "    data = page_request.content\n",
    "    soup = BeautifulSoup(data,\"html.parser\")\n",
    "    data = []\n",
    "    print(soup.find_all('span',{'class': 'w_tle'}))\n",
    "                    \n"
   ]
  },
  {
   "cell_type": "code",
   "execution_count": 3,
   "metadata": {},
   "outputs": [],
   "source": [
    "url = \"https://timesofindia.indiatimes.com/sports\"\n",
    "page_request = requests.get(url)\n",
    "data = page_request.content\n",
    "soup = BeautifulSoup(data,\"html.parser\")\n",
    "data = []\n",
    "target= soup.find('div',attrs={'id':'c_sport_wdt_1'})"
   ]
  },
  {
   "cell_type": "code",
   "execution_count": 14,
   "metadata": {},
   "outputs": [
    {
     "name": "stdout",
     "output_type": "stream",
     "text": [
      "20\n"
     ]
    }
   ],
   "source": [
    "newslist = target.find_all('ul',attrs={'class':'cvs_wdt'})\n",
    "data = []\n",
    "for news_ul in newslist:\n",
    "    for news_li in news_ul.find_all('li'):\n",
    "        try:\n",
    "            news_title = news_li.find('a').text\n",
    "            news_link = news_li.find('a').get('href')\n",
    "            if len(news_title) > 10:\n",
    "                data.append({\"title\":news_title,\"link\":news_link})\n",
    "        except:\n",
    "            pass\n",
    "print(len(data))"
   ]
  },
  {
   "cell_type": "code",
   "execution_count": 15,
   "metadata": {},
   "outputs": [
    {
     "data": {
      "text/plain": [
       "20"
      ]
     },
     "execution_count": 15,
     "metadata": {},
     "output_type": "execute_result"
    }
   ],
   "source": [
    "len(data)"
   ]
  },
  {
   "cell_type": "code",
   "execution_count": 16,
   "metadata": {},
   "outputs": [
    {
     "data": {
      "text/plain": [
       "[{'title': 'EPL champs Man City paint town blue with open top bus parade',\n",
       "  'link': '/sports/football/epl/top-stories/premier-league-champions-manchester-city-paint-town-blue-with-open-top-bus-parade/articleshow/91755597.cms'},\n",
       " {'title': 'Mbappe says he will not overstep role as a player under PSG deal',\n",
       "  'link': '/sports/football/top-stories/mbappe-says-he-will-not-overstep-role-as-a-player-under-psg-deal/articleshow/91748385.cms'},\n",
       " {'title': 'Manuel Neuer extends Bayern contract until 2024',\n",
       "  'link': '/sports/football/top-stories/manuel-neuer-extends-bayern-contract-until-2024/articleshow/91748590.cms'},\n",
       " {'title': 'Qatar World Cup audience projected at 5 billion, says FIFA boss',\n",
       "  'link': '/sports/football/top-stories/qatar-world-cup-audience-projected-at-5-billion-says-fifa-boss/articleshow/91749358.cms'},\n",
       " {'title': 'Young Indian team needs to handle pressure in Asia Cup opener against Pakistan',\n",
       "  'link': '/sports/hockey/top-stories/young-indian-team-needs-to-handle-pressure-in-asia-cup-opener-against-pakistan/articleshow/91721167.cms'},\n",
       " {'title': \"India names team for women's FIH Pro League, Savita remains captain\",\n",
       "  'link': '/sports/hockey/top-stories/india-names-team-for-womens-hockey-pro-league-savita-remains-captain/articleshow/91706447.cms'},\n",
       " {'title': 'Some Indian players are role models of my players: Pakistan coach',\n",
       "  'link': '/sports/hockey/top-stories/some-indian-players-are-role-models-of-my-players-pakistan-hockey-coach/articleshow/91694386.cms'},\n",
       " {'title': \"Defending champions India leave for men's Asia Cup\",\n",
       "  'link': '/sports/hockey/top-stories/defending-champions-india-leave-for-mens-hockey-asia-cup-in-jakarta/articleshow/91685934.cms'},\n",
       " {'title': 'Raducanu tames fellow teen Noskova in gruelling French Open debut',\n",
       "  'link': '/sports/tennis/french-open/emma-raducanu-tames-fellow-teenager-linda-noskova-in-gruelling-french-open-debut/articleshow/91756227.cms'},\n",
       " {'title': \"Djokovic 'intends to go to Wimbledon' in 'lose-lose' situation\",\n",
       "  'link': '/sports/tennis/top-stories/novak-djokovic-intends-to-go-to-wimbledon-in-lose-lose-situation/articleshow/91756456.cms'},\n",
       " {'title': \"Krejcikova's French Open title defence ends in first round\",\n",
       "  'link': '/sports/tennis/french-open/krejcikovas-french-open-title-defence-ends-in-first-round/articleshow/91747672.cms'},\n",
       " {'title': 'Iga Swiatek powers into French Open second round',\n",
       "  'link': '/sports/tennis/french-open/iga-swiatek-powers-into-french-open-second-round/articleshow/91743912.cms'},\n",
       " {'title': 'From 150 pounds to 256 pounds: The incredible transformation of WWE wrestler Rinku Singh aka Veer Mahaan',\n",
       "  'link': '/sports/wwe/top-stories/from-150-pounds-to-256-pounds-the-incredible-transformation-of-wwe-wrestler-rinku-singh-aka-veer-mahaan/articleshow/90845097.cms'},\n",
       " {'title': 'Drew McIntyre gears up for the Orton challenge',\n",
       "  'link': '/sports/wwe/top-stories/drew-mcintyre-gears-up-for-the-orton-challenge/articleshow/77696177.cms'},\n",
       " {'title': 'Nikki Cross gears up for her clash with Bayley',\n",
       "  'link': '/sports/wwe/top-stories/nikki-cross-gears-up-for-her-clash-with-bayley/articleshow/77002062.cms'},\n",
       " {'title': \"'Don't have the desire to get back in ring': The Undertaker retires from WWE\",\n",
       "  'link': '/sports/wwe/top-stories/dont-have-the-desire-to-get-back-in-ring-the-undertaker-retires-from-wwe/articleshow/76517310.cms'},\n",
       " {'title': \"NFL: Super Bowl MVP Kupp says Rams' confidence never wavered\",\n",
       "  'link': '/sports/nfl/news/nfl-super-bowl-mvp-kupp-says-rams-confidence-never-wavered/articleshow/89580783.cms'},\n",
       " {'title': 'NFL: Washington select Commanders as new name',\n",
       "  'link': '/sports/nfl/news/nfl-washington-select-commanders-as-new-name/articleshow/89302622.cms'},\n",
       " {'title': \"Tom Brady calls it a career: 'Luckiest person in the world'\",\n",
       "  'link': '/sports/nfl/news/tom-brady-calls-it-a-career-luckiest-person-in-the-world/articleshow/89280806.cms'},\n",
       " {'title': \"Tom Brady: Five memorable moments in superstar quarterback's NFL career\",\n",
       "  'link': '/sports/nfl/news/tom-brady-five-memorable-moments-in-superstar-quarterbacks-nfl-career/articleshow/89280198.cms'}]"
      ]
     },
     "execution_count": 16,
     "metadata": {},
     "output_type": "execute_result"
    }
   ],
   "source": [
    "data"
   ]
  },
  {
   "cell_type": "code",
   "execution_count": 28,
   "metadata": {},
   "outputs": [
    {
     "name": "stdout",
     "output_type": "stream",
     "text": [
      "[{'title': 'Nimbu pani and Chaach in summers: Nutrition face-off', 'link': 'https://timesofindia.indiatimes.com/life-style/health-fitness/health-news/life-style/health-fitness/health-news/nimbu-pani-and-chaach-in-summers-nutrition-face-off/photostory/91756420.cms'}, {'title': 'Monkeypox vs. Coronavirus: How the two infections differ', 'link': 'https://timesofindia.indiatimes.com/life-style/health-fitness/health-news/life-style/health-fitness/health-news/monkeypox-vs-coronavirus-how-the-two-infections-differ/photostory/91742431.cms'}, {'title': 'Heart attack: Warning signs on your face to look out for', 'link': 'https://timesofindia.indiatimes.com/life-style/health-fitness/health-news/life-style/health-fitness/health-news/heart-attack-warning-signs-on-your-face-to-look-out-for/photostory/91740830.cms'}, {'title': 'Coronavirus infection: All you need to know about COVID and its impact on sexual health', 'link': 'https://timesofindia.indiatimes.com/life-style/health-fitness/health-news/life-style/health-fitness/health-news/coronavirus-infection-all-you-need-to-know-about-covid-and-its-impact-on-sexual-health/photostory/91739292.cms'}, {'title': 'Why is Monkeypox called Monkeypox; virus cases on rise', 'link': 'https://timesofindia.indiatimes.com/life-style/health-fitness/health-news/life-style/health-fitness/health-news/why-is-monkeypox-called-monkeypox-virus-cases-on-rise/photostory/91726326.cms'}, {'title': 'High blood pressure: This healthy drink has consistent benefits, researchers say', 'link': 'https://timesofindia.indiatimes.com/life-style/health-fitness/health-news/life-style/health-fitness/health-news/high-blood-pressure-this-healthy-drink-has-consistent-benefits-researchers-say/photostory/91692928.cms'}, {'title': '5 foods rich in vitamin K and easy to prepare recipes', 'link': 'https://timesofindia.indiatimes.com/life-style/health-fitness/health-news/life-style/health-fitness/health-news/5-foods-rich-in-vitamin-k-and-easy-to-prepare-recipes/photostory/91701631.cms'}, {'title': \"Long coronavirus: 7 signs you're suffering from a brain fog\", 'link': 'https://timesofindia.indiatimes.com/life-style/health-fitness/health-news/life-style/health-fitness/health-news/long-coronavirus-7-signs-youre-suffering-from-a-brain-fog/photostory/91708144.cms'}, {'title': \"Vitamin B12 deficiency: Signs of 'neurologic damage' caused by low vitamin B12 in the body\", 'link': 'https://timesofindia.indiatimes.com/life-style/health-fitness/health-news/life-style/health-fitness/health-news/vitamin-b12-deficiency-signs-of-neurologic-damage-caused-by-low-vitamin-b12-in-the-body/photostory/91694159.cms'}, {'title': 'Coronavirus: Study finds this lingering symptom in one in five people', 'link': 'https://timesofindia.indiatimes.com/life-style/health-fitness/health-news/life-style/health-fitness/health-news/coronavirus-study-finds-this-lingering-symptom-in-one-in-five-people/photostory/91701392.cms'}, {'title': 'High Cholesterol: Getting weird unexplainable smells can be an indicator of high cholesterol', 'link': 'https://timesofindia.indiatimes.com/life-style/health-fitness/health-news/life-style/health-fitness/health-news/high-cholesterol-getting-weird-unexplainable-smells-often-can-indicate-your-cholesterol-is-above-the-threshold/photostory/91690098.cms'}, {'title': 'Croup vs. Coronavirus: How to differentiate between symptoms', 'link': 'https://timesofindia.indiatimes.com/life-style/health-fitness/health-news/life-style/health-fitness/health-news/croup-vs-coronavirus-how-to-differentiate-between-symptoms/photostory/91688610.cms'}, {'title': 'Dementia risk: These two health conditions make people more prone to dementia', 'link': 'https://timesofindia.indiatimes.com/life-style/health-fitness/health-news/life-style/health-fitness/health-news/dementia-risk-these-two-health-conditions-make-people-more-prone-to-dementia/photostory/91684746.cms'}, {'title': \"Coronavirus: Omicron BA.4 case found in India as per reports; here's all about its severity, transmissibility and symptom...\", 'link': 'https://timesofindia.indiatimes.com/life-style/health-fitness/health-news/life-style/health-fitness/health-news/coronavirus-omicron-ba-4-case-found-in-india-as-per-reports-heres-all-about-its-severity-transmissibility-and-symptoms/photostory/91683844.cms'}, {'title': 'Coronavirus: Will you keep having milder COVID symptoms in case of reinfection? This and several other questions answered', 'link': 'https://timesofindia.indiatimes.com/life-style/health-fitness/health-news/life-style/health-fitness/health-news/coronavirus-will-you-keep-having-milder-covid-symptoms-in-case-of-reinfection-this-and-several-other-questions-answered/photostory/91679689.cms'}, {'title': 'Are vitamin, mineral supplements really helping you? We try to decode', 'link': 'https://timesofindia.indiatimes.com/life-style/health-fitness/health-news/life-style/health-fitness/health-news/are-vitamin-mineral-supplements-really-helping-you-we-try-to-decode/photostory/91663424.cms'}, {'title': 'Enabling a Revolution in Healthcare With Robotic Surgery', 'link': 'https://timesofindia.indiatimes.com/life-style/health-fitness/health-news/life-style/health-fitness/health-news/enabling-a-revolution-in-healthcare-with-robotic-surgery/articleshow/91664774.cms'}, {'title': 'Cancer symptoms: Watch out for THIS sign in your leg, could signal cancer', 'link': 'https://timesofindia.indiatimes.com/life-style/health-fitness/health-news/life-style/health-fitness/health-news/cancer-symptoms-watch-out-for-this-sign-in-your-leg-could-signal-cancer/photostory/91661492.cms'}, {'title': 'Coronavirus: Dogs as effective at detecting COVID-19 as PCR tests, study shows', 'link': 'https://timesofindia.indiatimes.com/life-style/health-fitness/health-news/life-style/health-fitness/health-news/coronavirus-dogs-as-effective-at-detecting-covid-19-as-pcr-tests-study-shows/photostory/91659493.cms'}, {'title': 'Coronavirus: From severity to risk factors, 6 things you should know about long COVID', 'link': 'https://timesofindia.indiatimes.com/life-style/health-fitness/health-news/life-style/health-fitness/health-news/coronavirus-from-severity-to-risk-factors-6-things-you-should-know-about-long-covid/photostory/91655802.cms'}, {'title': 'World AIDS Vaccine Day 2022: Know all about the significance of this day', 'link': 'https://timesofindia.indiatimes.com/life-style/health-fitness/health-news/life-style/health-fitness/health-news/world-aids-vaccine-day-2022-know-all-about-the-significance-of-this-day/photostory/91643727.cms'}, {'title': 'Monkeypox virus: Four new cases; warning signs to watch out for', 'link': 'https://timesofindia.indiatimes.com/life-style/health-fitness/health-news/life-style/health-fitness/health-news/monkeypox-virus-four-new-cases-warning-signs-to-watch-out-for/photostory/91640026.cms'}, {'title': 'Kannada TV actor Chethana Raj dies during plastic surgery; follow this medical advice for safe plastic surgery', 'link': 'https://timesofindia.indiatimes.com/life-style/health-fitness/health-news/life-style/health-fitness/health-news/kannada-tv-actor-chethana-raj-dies-during-plastic-surgery-follow-this-medical-advice-for-safe-plastic-surgery/photostory/91637181.cms'}, {'title': 'Coronavirus: The long COVID symptom that occurs at night', 'link': 'https://timesofindia.indiatimes.com/life-style/health-fitness/health-news/life-style/health-fitness/health-news/coronavirus-the-long-covid-symptom-that-occurs-at-night/photostory/91621110.cms'}, {'title': 'Chhavi Mittal shares she was lucky to dodge chemotherapy; know how it differs from radiotherapy and side effects to expec...', 'link': 'https://timesofindia.indiatimes.com/life-style/health-fitness/health-news/life-style/health-fitness/health-news/chhavi-mittal-shares-she-was-lucky-to-dodge-chemotherapy-know-how-it-differs-from-radiotherapy-and-side-effects-to-expect/photostory/91617680.cms'}, {'title': 'Healthy flavouring for back to school tiffin', 'link': 'https://timesofindia.indiatimes.com/life-style/health-fitness/health-news/life-style/health-fitness/health-news/healthy-flavouring-for-back-to-school-tiffin/articleshow/91625425.cms'}, {'title': 'How gut health impacts overall health', 'link': 'https://timesofindia.indiatimes.com/life-style/health-fitness/health-news/life-style/health-fitness/health-news/how-gut-health-impacts-overall-health/articleshow/91624514.cms'}, {'title': 'World Hypertension Day 2022: Know how to treat patients of hypertension', 'link': 'https://timesofindia.indiatimes.com/life-style/health-fitness/health-news/life-style/health-fitness/health-news/world-hypertension-day-2022-know-how-to-treat-patients-of-hypertension-with-and-heart-failure/articleshow/91623912.cms'}, {'title': 'World Hypertension Day: \"Not many are aware, nose bleeds can be devastating and lead to ICU admissions\"', 'link': 'https://timesofindia.indiatimes.com/life-style/health-fitness/health-news/life-style/health-fitness/health-news/world-hypertension-day-not-many-are-aware-nose-bleeds-can-be-devastating-and-lead-to-icu-admissions/articleshow/91617130.cms'}, {'title': 'Silent heart attack symptoms: Early warning signs you may miss', 'link': 'https://timesofindia.indiatimes.com/life-style/health-fitness/health-news/life-style/health-fitness/health-news/silent-heart-attack-symptoms-early-warning-signs-you-may-miss/photostory/91614127.cms'}, {'title': 'Look out for eyes amidst the ongoing heat wave', 'link': 'https://timesofindia.indiatimes.com/life-style/health-fitness/health-news/life-style/health-fitness/health-news/look-out-for-eyes-amidst-the-ongoing-heatwave/articleshow/91614871.cms'}, {'title': 'Coronavirus: Side effects from COVID-19 booster shots more common than from regular doses, study says', 'link': 'https://timesofindia.indiatimes.com/life-style/health-fitness/health-news/life-style/health-fitness/health-news/side-effects-from-covid-19-booster-shots-more-common-than-from-regular-doses-study-says/photostory/91600346.cms'}, {'title': 'Rise of acute hepatitis among kids: Find out what is causing it, symptoms to note and all about the role of vaccines', 'link': 'https://timesofindia.indiatimes.com/life-style/health-fitness/health-news/life-style/health-fitness/health-news/rise-of-acute-hepatitis-among-kids-find-out-what-is-causing-it-symptoms-to-note-and-all-about-the-role-of-vaccines/photostory/91595316.cms'}, {'title': 'High cholesterol: Eye floaters in your vision could be a sign', 'link': 'https://timesofindia.indiatimes.com/life-style/health-fitness/health-news/life-style/health-fitness/health-news/high-cholesterol-eye-floaters-in-your-vision-could-be-a-sign/photostory/91592517.cms'}, {'title': 'Coronavirus: 5 ways to spot long COVID', 'link': 'https://timesofindia.indiatimes.com/life-style/health-fitness/health-news/life-style/health-fitness/health-news/coronavirus-5-ways-to-spot-long-covid/photostory/91588207.cms'}, {'title': 'Identify key symptoms of pre-diabetes to prevent type 2 diabetes', 'link': 'https://timesofindia.indiatimes.com/life-style/health-fitness/health-news/life-style/health-fitness/health-news/identify-key-symptoms-of-pre-diabetes-to-prevent-type-2-diabetes/photostory/91545134.cms'}, {'title': \"Normal cough versus coronavirus cough: How to tell if your child's cough is COVID or something else\", 'link': 'https://timesofindia.indiatimes.com/life-style/health-fitness/health-news/life-style/health-fitness/health-news/normal-cough-versus-coronavirus-cough-how-to-tell-if-your-childs-cough-is-covid-or-something-else/photostory/91547905.cms'}, {'title': 'Chandra Grahan 2022: Can lunar eclipse have any effect on your health?', 'link': 'https://timesofindia.indiatimes.com/life-style/health-fitness/health-news/life-style/health-fitness/health-news/chandra-grahan-2022-can-lunar-eclipse-have-any-effect-on-your-health/articleshow/91572054.cms'}, {'title': 'Coronavirus: Symptoms and signs that are linked to COVID, but are rarely held accountable', 'link': 'https://timesofindia.indiatimes.com/life-style/health-fitness/health-news/life-style/health-fitness/health-news/coronavirus-symptoms-and-signs-that-are-linked-to-covid-but-are-rarely-held-accountable/photostory/91564293.cms'}, {'title': 'Former Australian cricketer Andrew Symonds dies in car accident; why we all need to know the significance of the golden h...', 'link': 'https://timesofindia.indiatimes.com/life-style/health-fitness/health-news/life-style/health-fitness/health-news/former-australian-cricketer-andrew-symonds-dies-in-car-accident-why-we-all-need-to-know-the-significance-of-the-golden-hour/articleshow/91571789.cms'}, {'title': 'Types of headache and the pain you may experience with it', 'link': 'https://timesofindia.indiatimes.com/life-style/health-fitness/health-news/life-style/health-fitness/health-news/types-of-headache-and-the-pain-you-may-experience-with-it/photostory/91547585.cms'}, {'title': 'Vaccinated vs. unvaccinated: Coronavirus symptoms to note according to your vaccination status', 'link': 'https://timesofindia.indiatimes.com/life-style/health-fitness/health-news/life-style/health-fitness/health-news/vaccinated-vs-unvaccinated-coronavirus-symptoms-to-note-according-to-your-vaccination-status/photostory/91444346.cms'}, {'title': 'Long coronavirus: 2 COVID symptoms that could last for nine months or more', 'link': 'https://timesofindia.indiatimes.com/life-style/health-fitness/health-news/life-style/health-fitness/health-news/long-coronavirus-2-covid-symptoms-that-could-last-for-nine-months-or-more/photostory/91543396.cms'}, {'title': 'Sudden Infant Death Syndrome: Researcher who lost child to SIDS finds cause behind it', 'link': 'https://timesofindia.indiatimes.com/life-style/health-fitness/health-news/life-style/health-fitness/health-news/sids-australian-researchers-find-cause-behind-sudden-infant-death-syndrome/articleshow/91555505.cms'}, {'title': 'Nurses recall the terror of second wave', 'link': 'https://timesofindia.indiatimes.com/life-style/health-fitness/health-news/life-style/health-fitness/health-news/nurses-recall-the-terror-of-second-wave/articleshow/91540379.cms'}, {'title': 'Busting myths around skin chafing and how one can prevent it', 'link': 'https://timesofindia.indiatimes.com/life-style/health-fitness/health-news/life-style/health-fitness/health-news/busting-myths-around-skin-chafing-and-how-one-can-prevent-it/articleshow/91545038.cms'}, {'title': 'Coronavirus: North Korea confirms first-ever COVID death and declares “severe national emergency”; key health concerns to...', 'link': 'https://timesofindia.indiatimes.com/life-style/health-fitness/health-news/life-style/health-fitness/health-news/coronavirus-north-korea-confirms-first-ever-covid-death-and-declares-severe-national-emergency-key-health-concerns-to-know/photostory/91539386.cms'}, {'title': \"Celebrities who've battled varicose veins; know all about the condition, symptoms and treatment options\", 'link': 'https://timesofindia.indiatimes.com/life-style/health-fitness/health-news/life-style/health-fitness/health-news/celebrities-whove-battled-varicose-veins-know-all-about-the-condition-symptoms-and-treatment-options/photostory/91537571.cms'}, {'title': 'Coronavirus: Is a headache without a fever a COVID-19 symptom?', 'link': 'https://timesofindia.indiatimes.com/life-style/health-fitness/health-news/life-style/health-fitness/health-news/is-a-headache-without-a-fever-a-covid-19-symptom/photostory/91523160.cms'}, {'title': 'Five everyday foods linked to an increased cancer risk', 'link': 'https://timesofindia.indiatimes.com/life-style/health-fitness/health-news/life-style/health-fitness/health-news/four-everyday-foods-linked-to-an-increased-cancer-risk/photostory/91523358.cms'}]\n"
     ]
    }
   ],
   "source": [
    "url = \"https://timesofindia.indiatimes.com/life-style/health-fitness/health-news\"\n",
    "page_request = requests.get(url)\n",
    "data = page_request.content\n",
    "soup = BeautifulSoup(data,\"html.parser\")\n",
    "data = []\n",
    "news = soup.find_all('div',attrs={'class':'md_news_box'})\n",
    "for news_div in news:\n",
    "    try:\n",
    "        news_title = news_div.find('p').text\n",
    "        news_link = news_div.find('p').a.get('href')\n",
    "        data.append({\"title\":news_title,\"link\":f\"{url}{news_link}\"})\n",
    "    except Exception as e:\n",
    "        pass\n",
    "print(data)"
   ]
  },
  {
   "cell_type": "code",
   "execution_count": 33,
   "metadata": {},
   "outputs": [
    {
     "name": "stdout",
     "output_type": "stream",
     "text": [
      "25\n",
      "[{'title': '\\n‘In this country, there are unrecorded, undiscovered textiles in every village and town’: Ritu Kumar\\n', 'link': 'https://indianexpress.com/article/lifestyle/fashion/the-colonial-image-of-india-was-that-people-were-dressed-like-fakirs-and-the-women-dressed-like-tribals-ritu-kumar-7927369/'}, {'title': '\\nBirth control: What to expect if you choose to come off it\\n', 'link': 'https://indianexpress.com/article/lifestyle/health/birth-control-what-to-expect-if-you-choose-to-come-off-it-7927511/'}, {'title': '\\nHair loss in summers: Know the causes, ways to prevent it\\n', 'link': 'https://indianexpress.com/article/lifestyle/life-style/hair-loss-summers-causes-prevention-hair-care-7907940/'}, {'title': '\\nNargis Fakhri is all glitter and glam in embellished gown on Cannes 2022 red carpet\\n', 'link': 'https://indianexpress.com/article/lifestyle/fashion/nargis-fakhri-cannes-2022-fashion-embellished-peach-gown-red-carpet-7931772/'}, {'title': '\\nWorking long hours? This is what you can do for your sight\\n', 'link': 'https://indianexpress.com/article/lifestyle/health/straining-eyes-working-long-hours-improve-sight-eye-health-vision-yoga-7908816/'}, {'title': '\\nMalaika Arora demonstrates three yoga asanas to reduce belly fat; watch\\n', 'link': 'https://indianexpress.com/article/lifestyle/fitness/malaika-arora-yoga-asanas-reduce-belly-fat-7901613/'}, {'title': '\\n‘The most important journey all of us will go through is the journey within ourselves’: Cara Delevingne\\n', 'link': 'https://indianexpress.com/article/lifestyle/life-positive/the-most-important-journey-all-of-us-will-go-through-is-the-journey-in-ourselves-cara-delevigne-anxiety-depression-7859935/'}, {'title': '\\nKourtney Kardashian’s wedding veil paid tribute to groom Travis Barker’s tattoo (details inside)\\n', 'link': 'https://indianexpress.com/article/lifestyle/fashion/kourtney-kardashians-custom-wedding-veil-paid-a-tribute-to-groom-travis-barkers-head-tattoo-check-out-the-details-7931363/'}, {'title': '\\nWhat we know about long Covid so far\\n', 'link': 'https://indianexpress.com/article/lifestyle/health/long-covid-update-pandemic-7931408/'}, {'title': '\\nKareena Kapoor, Vijay Varma are shooting in ‘freezing Darjeeling’; here’s why it’s one of the best summer destinations in India\\n', 'link': 'https://indianexpress.com/article/lifestyle/destination-of-the-week/kareena-kapoor-khan-and-vijay-varma-are-shooting-in-the-gorgeous-landscape-of-darjeeling-heres-why-its-one-of-the-best-summer-destinations-in-india-7931597/'}, {'title': '\\nThree simple things you can do to decorate your garden this summer\\n', 'link': 'https://indianexpress.com/article/lifestyle/life-style/things-decorate-garden-summer-home-decor-tips-outdoors-7908156/'}, {'title': '\\nKurt Cobain’s electric guitar auctions for nearly $5 million\\n', 'link': 'https://indianexpress.com/article/lifestyle/life-style/kurt-cobains-electric-guitar-auctions-for-nearly-usd-5-million-7931326/'}, {'title': '\\nFrom colour testing to peripheral vision: Mandatory eye tests for those over 30\\n', 'link': 'https://indianexpress.com/article/lifestyle/health/mandatory-eye-tests-over-30-7818786/'}, {'title': '\\nMasaba Gupta swears by ginger ale when sick; know about its benefits (plus, recipe)\\n', 'link': 'https://indianexpress.com/article/lifestyle/health/masaba-gupta-ginger-ale-benefits-recipe-nausea-inflammation-digestion-7922166/'}, {'title': '\\nExpert shares simple diet tips to relieve constipation, insomnia\\n', 'link': 'https://indianexpress.com/article/lifestyle/health/relieve-constipation-insomnia-ayurveda-week-diet-tips-7840496/'}, {'title': '\\n‘Happy birthday, Mr. President’ — famous birthday serenades\\n', 'link': 'https://indianexpress.com/article/lifestyle/life-style/happy-birthday-mr-president-famous-birthday-serenades-john-f-kennedy-marilyn-monroe-7931185/'}, {'title': '\\nFruity alert: Here’s what makes peach or aadu a summer ‘superstar’\\n', 'link': 'https://indianexpress.com/article/lifestyle/health/peaches-summer-fruits-health-benefits-7900971/'}, {'title': '\\nCannes 2022: Aditi Rao Hydari looks stylish in black lace gown, colour-block dress on red carpet\\n', 'link': 'https://indianexpress.com/article/lifestyle/fashion/cannes-2022-aditi-rao-hydari-black-gown-sabyasachi-colour-block-dress-fashion-looks-7931213/'}, {'title': '\\nAll you need to know about migraine attacks and triggers\\n', 'link': 'https://indianexpress.com/article/lifestyle/health/migraine-pain-headache-attacks-triggers-treatment-7886223/'}, {'title': '\\nWhat Carmen Electra thinks about Kim Kardashian recreating her daring ’90s look: ‘She looked amazing’\\n', 'link': 'https://indianexpress.com/article/lifestyle/fashion/carmen-electra-kim-kardashian-recreating-daring-90s-look-white-backless-gown-7927516/'}, {'title': '\\nWant to boost hair growth naturally? Here are some simple tips\\n', 'link': 'https://indianexpress.com/article/lifestyle/life-style/boost-hair-growth-naturally-simple-tips-7896594/'}, {'title': '\\n‘Never grew up with the thought of being in an industry where you are expected to be the centre of attention’: Yami Gautam\\n', 'link': 'https://indianexpress.com/article/lifestyle/life-style/yami-gautam-dasvi-films-fashion-fitness-interview-7920474/'}, {'title': '\\nCoffee soap factory helps east Congo women make ends meet\\n', 'link': 'https://indianexpress.com/article/lifestyle/life-style/heshima-coffee-soap-factory-helps-east-congo-women-make-ends-meet-7926336/'}, {'title': '\\nWhy you must drink water stored in a clay pot or ‘matka’\\n', 'link': 'https://indianexpress.com/article/lifestyle/health/drinking-water-storied-clay-earthen-pots-matka-health-benefits-7917136/'}, {'title': '\\nDid Kourtney Kardashian seek fashion inspiration from sister Kim for her black dress?\\n', 'link': 'https://indianexpress.com/article/lifestyle/fashion/kourtney-kardashian-fashion-inspiration-kim-kardashian-black-dress-dolce-gabbana-7930216/'}]\n"
     ]
    }
   ],
   "source": [
    "url = \"https://indianexpress.com/section/lifestyle/\"\n",
    "page_request = requests.get(url)\n",
    "data = page_request.content\n",
    "soup = BeautifulSoup(data,\"html.parser\")\n",
    "data = []\n",
    "news = soup.find('div',attrs={'class':'nation'})\n",
    "# print(news)\n",
    "articles = news.find_all('div',attrs={'class':'articles'})\n",
    "print(len(articles))\n",
    "data = []\n",
    "for article in articles:\n",
    "    try:\n",
    "        news_title = article.find('h2').text\n",
    "        news_link = article.find('h2').a.get('href')\n",
    "        data.append({\"title\":news_title,\"link\":f\"{news_link}\"})\n",
    "    except Exception as e:\n",
    "        pass\n",
    "print(data)"
   ]
  },
  {
   "cell_type": "code",
   "execution_count": null,
   "metadata": {},
   "outputs": [],
   "source": []
  }
 ],
 "metadata": {
  "interpreter": {
   "hash": "6e11b575d63e0c053a2af339eeb63568f41be82542f69a4d07649bd0f4847a77"
  },
  "kernelspec": {
   "display_name": "Python 3.9.12 ('project')",
   "language": "python",
   "name": "python3"
  },
  "language_info": {
   "codemirror_mode": {
    "name": "ipython",
    "version": 3
   },
   "file_extension": ".py",
   "mimetype": "text/x-python",
   "name": "python",
   "nbconvert_exporter": "python",
   "pygments_lexer": "ipython3",
   "version": "3.9.12"
  },
  "orig_nbformat": 4
 },
 "nbformat": 4,
 "nbformat_minor": 2
}
